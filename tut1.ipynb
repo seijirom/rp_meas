{
 "cells": [
  {
   "cell_type": "code",
   "execution_count": 2,
   "metadata": {
    "collapsed": false
   },
   "outputs": [
    {
     "data": {
      "application/javascript": [
       "if(window['d3'] === undefined ||\n",
       "   window['Nyaplot'] === undefined){\n",
       "    var path = {\"d3\":\"https://cdnjs.cloudflare.com/ajax/libs/d3/3.5.5/d3.min\",\"downloadable\":\"http://cdn.rawgit.com/domitry/d3-downloadable/master/d3-downloadable\"};\n",
       "\n",
       "\n",
       "\n",
       "    var shim = {\"d3\":{\"exports\":\"d3\"},\"downloadable\":{\"exports\":\"downloadable\"}};\n",
       "\n",
       "    require.config({paths: path, shim:shim});\n",
       "\n",
       "\n",
       "require(['d3'], function(d3){window['d3']=d3;console.log('finished loading d3');require(['downloadable'], function(downloadable){window['downloadable']=downloadable;console.log('finished loading downloadable');\n",
       "\n",
       "\tvar script = d3.select(\"head\")\n",
       "\t    .append(\"script\")\n",
       "\t    .attr(\"src\", \"http://cdn.rawgit.com/domitry/Nyaplotjs/master/release/nyaplot.js\")\n",
       "\t    .attr(\"async\", true);\n",
       "\n",
       "\tscript[0][0].onload = script[0][0].onreadystatechange = function(){\n",
       "\n",
       "\n",
       "\t    var event = document.createEvent(\"HTMLEvents\");\n",
       "\t    event.initEvent(\"load_nyaplot\",false,false);\n",
       "\t    window.dispatchEvent(event);\n",
       "\t    console.log('Finished loading Nyaplotjs');\n",
       "\n",
       "\t};\n",
       "\n",
       "\n",
       "});});\n",
       "}\n"
      ],
      "text/plain": [
       "\"if(window['d3'] === undefined ||\\n   window['Nyaplot'] === undefined){\\n    var path = {\\\"d3\\\":\\\"https://cdnjs.cloudflare.com/ajax/libs/d3/3.5.5/d3.min\\\",\\\"downloadable\\\":\\\"http://cdn.rawgit.com/domitry/d3-downloadable/master/d3-downloadable\\\"};\\n\\n\\n\\n    var shim = {\\\"d3\\\":{\\\"exports\\\":\\\"d3\\\"},\\\"downloadable\\\":{\\\"exports\\\":\\\"downloadable\\\"}};\\n\\n    require.config({paths: path, shim:shim});\\n\\n\\nrequire(['d3'], function(d3){window['d3']=d3;console.log('finished loading d3');require(['downloadable'], function(downloadable){window['downloadable']=downloadable;console.log('finished loading downloadable');\\n\\n\\tvar script = d3.select(\\\"head\\\")\\n\\t    .append(\\\"script\\\")\\n\\t    .attr(\\\"src\\\", \\\"http://cdn.rawgit.com/domitry/Nyaplotjs/master/release/nyaplot.js\\\")\\n\\t    .attr(\\\"async\\\", true);\\n\\n\\tscript[0][0].onload = script[0][0].onreadystatechange = function(){\\n\\n\\n\\t    var event = document.createEvent(\\\"HTMLEvents\\\");\\n\\t    event.initEvent(\\\"load_nyaplot\\\",false,false);\\n\\t    window.dispatchEvent(event);\\n\\t    console.log('Finished loading Nyaplotjs');\\n\\n\\t};\\n\\n\\n});});\\n}\\n\""
      ]
     },
     "metadata": {},
     "output_type": "display_data"
    },
    {
     "data": {
      "text/plain": [
       "true"
      ]
     },
     "execution_count": 2,
     "metadata": {},
     "output_type": "execute_result"
    }
   ],
   "source": [
    "gem 'nyaplot', '0.1.6'\n",
    "require 'nyaplot'"
   ]
  },
  {
   "cell_type": "code",
   "execution_count": 3,
   "metadata": {
    "collapsed": false
   },
   "outputs": [
    {
     "data": {
      "text/html": [
       "<div id='vis-70411aaa-2099-4c2c-ab4e-12d805ae53c7'></div>\n",
       "<script>\n",
       "(function(){\n",
       "    var render = function(){\n",
       "        var model = {\"panes\":[{\"diagrams\":[{\"type\":\"bar\",\"options\":{\"x\":\"data0\",\"y\":\"data1\"},\"data\":\"53d67562-5647-4151-b2ef-f90b11072508\"}],\"options\":{\"x_label\":\"Species\",\"y_label\":\"Number\",\"width\":700,\"xrange\":[\"Persian\",\"Maine Coon\",\"American Shorthair\"],\"yrange\":[0,30]}}],\"data\":{\"53d67562-5647-4151-b2ef-f90b11072508\":[{\"data0\":\"Persian\",\"data1\":10},{\"data0\":\"Maine Coon\",\"data1\":20},{\"data0\":\"American Shorthair\",\"data1\":30}]},\"extension\":[]}\n",
       "        var id_name = '#vis-70411aaa-2099-4c2c-ab4e-12d805ae53c7';\n",
       "        Nyaplot.core.parse(model, id_name);\n",
       "\n",
       "        require(['downloadable'], function(downloadable){\n",
       "          var svg = d3.select(id_name).select(\"svg\");\n",
       "\t  if(!svg.empty())\n",
       "\t    svg.call(downloadable().filename('fig'));\n",
       "\t});\n",
       "    };\n",
       "    if(window['Nyaplot']==undefined){\n",
       "        window.addEventListener('load_nyaplot', render, false);\n",
       "\treturn;\n",
       "    } else {\n",
       "       render();\n",
       "    }\n",
       "})();\n",
       "</script>\n"
      ],
      "text/plain": [
       "#<Nyaplot::Frame:0xa76088 @properties={:panes=>[#<Nyaplot::Plot:0xa76c40 @properties={:diagrams=>[#<Nyaplot::Diagram:0xa76400 @properties={:type=>:bar, :options=>{:x=>\"data0\", :y=>\"data1\"}, :data=>\"53d67562-5647-4151-b2ef-f90b11072508\"}, @xrange=[\"Persian\", \"Maine Coon\", \"American Shorthair\"], @yrange=[0, 30]>], :options=>{:x_label=>\"Species\", :y_label=>\"Number\", :width=>700, :xrange=>[\"Persian\", \"Maine Coon\", \"American Shorthair\"], :yrange=>[0, 30]}}>], :data=>{\"53d67562-5647-4151-b2ef-f90b11072508\"=>#<Nyaplot::DataFrame:0xa76880 @name=\"53d67562-5647-4151-b2ef-f90b11072508\", @rows=[{:data0=>\"Persian\", :data1=>10}, {:data0=>\"Maine Coon\", :data1=>20}, {:data0=>\"American Shorthair\", :data1=>30}]>}, :extension=>[]}>"
      ]
     },
     "metadata": {},
     "output_type": "display_data"
    }
   ],
   "source": [
    "plot = Nyaplot::Plot.new\n",
    "plot.add(:bar, ['Persian', 'Maine Coon', 'American Shorthair'], [10,20,30])\n",
    "plot.x_label(\"Species\")\n",
    "plot.y_label(\"Number\")\n",
    "plot.show"
   ]
  },
  {
   "cell_type": "code",
   "execution_count": 4,
   "metadata": {
    "collapsed": false
   },
   "outputs": [
    {
     "data": {
      "text/html": [
       "<div id='vis-defb1577-f9bc-4dc9-bf11-f544734c1712'></div>\n",
       "<script>\n",
       "(function(){\n",
       "    var render = function(){\n",
       "        var model = {\"panes\":[{\"diagrams\":[{\"type\":\"scatter\",\"options\":{\"x\":\"data0\",\"y\":\"data1\",\"color\":\"#000\",\"title\":\"point\"},\"data\":\"da1b9844-7d17-46a0-b477-c387d92a4140\"},{\"type\":\"line\",\"options\":{\"x\":\"data0\",\"y\":\"data1\",\"title\":\"line\"},\"data\":\"6b16b44e-00cc-47f1-8a11-e22c81c64381\"}],\"options\":{\"legend\":true,\"zoom\":true,\"width\":800,\"xrange\":[0,9.5],\"yrange\":[3.0,8.439616849086612]}}],\"data\":{\"da1b9844-7d17-46a0-b477-c387d92a4140\":[{\"data0\":0,\"data1\":3.2169700937366144},{\"data0\":0.5,\"data1\":3.231658141037642},{\"data0\":1.0,\"data1\":3.924064462254539},{\"data0\":1.5,\"data1\":3.276390776108718},{\"data0\":2.0,\"data1\":4.228067895148728},{\"data0\":2.5,\"data1\":3.8409989823401265},{\"data0\":3.0,\"data1\":4.868111987103402},{\"data0\":3.5,\"data1\":5.401708684916472},{\"data0\":4.0,\"data1\":5.029085746319596},{\"data0\":4.5,\"data1\":4.859119882729805},{\"data0\":5.0,\"data1\":5.727167463176203},{\"data0\":5.5,\"data1\":5.668350894080584},{\"data0\":6.0,\"data1\":6.099861290186895},{\"data0\":6.5,\"data1\":5.572829953091691},{\"data0\":7.0,\"data1\":6.355187124944186},{\"data0\":7.5,\"data1\":6.859955916631688},{\"data0\":8.0,\"data1\":6.981604829018261},{\"data0\":8.5,\"data1\":7.647485252520111},{\"data0\":9.0,\"data1\":7.843462676490812},{\"data0\":9.5,\"data1\":8.439616849086612}],\"6b16b44e-00cc-47f1-8a11-e22c81c64381\":[{\"data0\":0,\"data1\":3.0},{\"data0\":0.5,\"data1\":3.25},{\"data0\":1.0,\"data1\":3.5},{\"data0\":1.5,\"data1\":3.75},{\"data0\":2.0,\"data1\":4.0},{\"data0\":2.5,\"data1\":4.25},{\"data0\":3.0,\"data1\":4.5},{\"data0\":3.5,\"data1\":4.75},{\"data0\":4.0,\"data1\":5.0},{\"data0\":4.5,\"data1\":5.25},{\"data0\":5.0,\"data1\":5.5},{\"data0\":5.5,\"data1\":5.75},{\"data0\":6.0,\"data1\":6.0},{\"data0\":6.5,\"data1\":6.25},{\"data0\":7.0,\"data1\":6.5},{\"data0\":7.5,\"data1\":6.75},{\"data0\":8.0,\"data1\":7.0},{\"data0\":8.5,\"data1\":7.25},{\"data0\":9.0,\"data1\":7.5},{\"data0\":9.5,\"data1\":7.75}]},\"extension\":[]}\n",
       "        var id_name = '#vis-defb1577-f9bc-4dc9-bf11-f544734c1712';\n",
       "        Nyaplot.core.parse(model, id_name);\n",
       "\n",
       "        require(['downloadable'], function(downloadable){\n",
       "          var svg = d3.select(id_name).select(\"svg\");\n",
       "\t  if(!svg.empty())\n",
       "\t    svg.call(downloadable().filename('fig'));\n",
       "\t});\n",
       "    };\n",
       "    if(window['Nyaplot']==undefined){\n",
       "        window.addEventListener('load_nyaplot', render, false);\n",
       "\treturn;\n",
       "    } else {\n",
       "       render();\n",
       "    }\n",
       "})();\n",
       "</script>\n"
      ],
      "text/plain": [
       "#<Nyaplot::Frame:0xa07cd0 @properties={:panes=>[#<Nyaplot::Plot:0xa0f350 @properties={:diagrams=>[#<Nyaplot::Diagram:0xa0de50 @properties={:type=>:scatter, :options=>{:x=>\"data0\", :y=>\"data1\", :color=>\"#000\", :title=>\"point\"}, :data=>\"da1b9844-7d17-46a0-b477-c387d92a4140\"}, @xrange=[0, 9.5], @yrange=[3.2169700937366144, 8.439616849086612]>, #<Nyaplot::Diagram:0xa0c1e8 @properties={:type=>:line, :options=>{:x=>\"data0\", :y=>\"data1\", :title=>\"line\"}, :data=>\"6b16b44e-00cc-47f1-8a11-e22c81c64381\"}, @xrange=[0, 9.5], @yrange=[3.0, 7.75]>], :options=>{:legend=>true, :zoom=>true, :width=>800, :xrange=>[0, 9.5], :yrange=>[3.0, 8.439616849086612]}}>], :data=>{\"da1b9844-7d17-46a0-b477-c387d92a4140\"=>#<Nyaplot::DataFrame:0xa0f038 @name=\"da1b9844-7d17-46a0-b477-c387d92a4140\", @rows=[{:data0=>0, :data1=>3.2169700937366144}, {:data0=>0.5, :data1=>3.231658141037642}, {:data0=>1.0, :data1=>3.924064462254539}, {:data0=>1.5, :data1=>3.276390776108718}, {:data0=>2.0, :data1=>4.228067895148728}, {:data0=>2.5, :data1=>3.8409989823401265}, {:data0=>3.0, :data1=>4.868111987103402}, {:data0=>3.5, :data1=>5.401708684916472}, {:data0=>4.0, :data1=>5.029085746319596}, {:data0=>4.5, :data1=>4.859119882729805}, {:data0=>5.0, :data1=>5.727167463176203}, {:data0=>5.5, :data1=>5.668350894080584}, {:data0=>6.0, :data1=>6.099861290186895}, {:data0=>6.5, :data1=>5.572829953091691}, {:data0=>7.0, :data1=>6.355187124944186}, {:data0=>7.5, :data1=>6.859955916631688}, {:data0=>8.0, :data1=>6.981604829018261}, {:data0=>8.5, :data1=>7.647485252520111}, {:data0=>9.0, :data1=>7.843462676490812}, {:data0=>9.5, :data1=>8.439616849086612}]>, \"6b16b44e-00cc-47f1-8a11-e22c81c64381\"=>#<Nyaplot::DataFrame:0xa0d718 @name=\"6b16b44e-00cc-47f1-8a11-e22c81c64381\", @rows=[{:data0=>0, :data1=>3.0}, {:data0=>0.5, :data1=>3.25}, {:data0=>1.0, :data1=>3.5}, {:data0=>1.5, :data1=>3.75}, {:data0=>2.0, :data1=>4.0}, {:data0=>2.5, :data1=>4.25}, {:data0=>3.0, :data1=>4.5}, {:data0=>3.5, :data1=>4.75}, {:data0=>4.0, :data1=>5.0}, {:data0=>4.5, :data1=>5.25}, {:data0=>5.0, :data1=>5.5}, {:data0=>5.5, :data1=>5.75}, {:data0=>6.0, :data1=>6.0}, {:data0=>6.5, :data1=>6.25}, {:data0=>7.0, :data1=>6.5}, {:data0=>7.5, :data1=>6.75}, {:data0=>8.0, :data1=>7.0}, {:data0=>8.5, :data1=>7.25}, {:data0=>9.0, :data1=>7.5}, {:data0=>9.5, :data1=>7.75}]>}, :extension=>[]}>"
      ]
     },
     "metadata": {},
     "output_type": "display_data"
    }
   ],
   "source": [
    "sc_y=[]; line_x=sc_x=[]; line_y=[]; a=0.5; b=3; noise=1.5; x=0\n",
    "rnd = Random.new\n",
    "while x<10\n",
    "  line_x.push(x)\n",
    "  line_y.push(a*x+b)\n",
    "  sc_y.push(a*x+b+noise*(rnd.rand-0.5))\n",
    "  x=(x+0.5).round(1)\n",
    "end\n",
    "plot2 = Nyaplot::Plot.new\n",
    "sc = plot2.add(:scatter, sc_x, sc_y)\n",
    "line = plot2.add(:line, line_x, line_y)\n",
    "sc.color('#000')\n",
    "sc.title('point')\n",
    "line.title('line')\n",
    "plot2.legend(true)\n",
    "plot2.show"
   ]
  },
  {
   "cell_type": "code",
   "execution_count": null,
   "metadata": {
    "collapsed": true
   },
   "outputs": [],
   "source": []
  }
 ],
 "metadata": {
  "kernelspec": {
   "display_name": "Ruby 2.1.5",
   "language": "ruby",
   "name": "ruby"
  },
  "language_info": {
   "file_extension": ".rb",
   "mimetype": "application/x-ruby",
   "name": "ruby",
   "version": "2.1.5"
  }
 },
 "nbformat": 4,
 "nbformat_minor": 0
}
