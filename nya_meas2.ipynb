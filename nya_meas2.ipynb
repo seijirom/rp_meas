{
 "cells": [
  {
   "cell_type": "code",
   "execution_count": 18,
   "metadata": {
    "collapsed": false,
    "scrolled": false
   },
   "outputs": [
    {
     "name": "stdout",
     "output_type": "stream",
     "text": [
      "# Open connection with your Red Pitaya\n",
      "signal_str.length = 929\n",
      "signal_str.min = -1.07426\n",
      "signal_str.max = 0.902174\n",
      "# Close connection with Red Pitaya\n"
     ]
    },
    {
     "data": {
      "text/html": [
       "<div id='vis-e2e6e31d-ff02-4684-83c2-762b1b3dc563'></div>\n",
       "<script>\n",
       "(function(){\n",
       "    var render = function(){\n",
       "        var model = {\"panes\":[{\"diagrams\":[{\"type\":\"line\",\"options\":{\"x\":\"data0\",\"y\":\"data1\"},\"data\":\"19f3eba2-3239-44f2-94cc-8f90800d94ef\"}],\"options\":{\"zoom\":true,\"width\":700,\"xrange\":[0,99],\"yrange\":[-1.07426,0.902174]}}],\"data\":{\"19f3eba2-3239-44f2-94cc-8f90800d94ef\":[{\"data0\":0,\"data1\":0.0},{\"data0\":1,\"data1\":-0.889137},{\"data0\":2,\"data1\":-0.915211},{\"data0\":3,\"data1\":-0.962145},{\"data0\":4,\"data1\":-0.993434},{\"data0\":5,\"data1\":-0.988219},{\"data0\":6,\"data1\":-0.996042},{\"data0\":7,\"data1\":-1.02472},{\"data0\":8,\"data1\":-1.04298},{\"data0\":9,\"data1\":-1.04819},{\"data0\":10,\"data1\":-1.02212},{\"data0\":11,\"data1\":-1.03776},{\"data0\":12,\"data1\":-1.05341},{\"data0\":13,\"data1\":-1.06384},{\"data0\":14,\"data1\":-1.05341},{\"data0\":15,\"data1\":-1.07426},{\"data0\":16,\"data1\":-1.04037},{\"data0\":17,\"data1\":-1.0508},{\"data0\":18,\"data1\":-1.03515},{\"data0\":19,\"data1\":-1.02733},{\"data0\":20,\"data1\":-1.00908},{\"data0\":21,\"data1\":-0.97779},{\"data0\":22,\"data1\":-0.964752},{\"data0\":23,\"data1\":-0.941285},{\"data0\":24,\"data1\":-0.920426},{\"data0\":25,\"data1\":-0.902174},{\"data0\":26,\"data1\":-0.870885},{\"data0\":27,\"data1\":-0.836988},{\"data0\":28,\"data1\":-0.805699},{\"data0\":29,\"data1\":-0.737905},{\"data0\":30,\"data1\":-0.724868},{\"data0\":31,\"data1\":-0.680542},{\"data0\":32,\"data1\":-0.623178},{\"data0\":33,\"data1\":-0.586674},{\"data0\":34,\"data1\":-0.55017},{\"data0\":35,\"data1\":-0.505843},{\"data0\":36,\"data1\":-0.43805},{\"data0\":37,\"data1\":-0.40676},{\"data0\":38,\"data1\":-0.349397},{\"data0\":39,\"data1\":-0.3155},{\"data0\":40,\"data1\":-0.278996},{\"data0\":41,\"data1\":-0.211203},{\"data0\":42,\"data1\":-0.159054},{\"data0\":43,\"data1\":-0.130372},{\"data0\":44,\"data1\":-0.0547562},{\"data0\":45,\"data1\":-0.0156446},{\"data0\":46,\"data1\":0.0391116},{\"data0\":47,\"data1\":0.083438},{\"data0\":48,\"data1\":0.12255},{\"data0\":49,\"data1\":0.174698},{\"data0\":50,\"data1\":0.21381},{\"data0\":51,\"data1\":0.263351},{\"data0\":52,\"data1\":0.323322},{\"data0\":53,\"data1\":0.352004},{\"data0\":54,\"data1\":0.396331},{\"data0\":55,\"data1\":0.419798},{\"data0\":56,\"data1\":0.471946},{\"data0\":57,\"data1\":0.521488},{\"data0\":58,\"data1\":0.560599},{\"data0\":59,\"data1\":0.591889},{\"data0\":60,\"data1\":0.610141},{\"data0\":61,\"data1\":0.66229},{\"data0\":62,\"data1\":0.670112},{\"data0\":63,\"data1\":0.719653},{\"data0\":64,\"data1\":0.735298},{\"data0\":65,\"data1\":0.761372},{\"data0\":66,\"data1\":0.779624},{\"data0\":67,\"data1\":0.790054},{\"data0\":68,\"data1\":0.829166},{\"data0\":69,\"data1\":0.836988},{\"data0\":70,\"data1\":0.85524},{\"data0\":71,\"data1\":0.863062},{\"data0\":72,\"data1\":0.876099},{\"data0\":73,\"data1\":0.896959},{\"data0\":74,\"data1\":0.883922},{\"data0\":75,\"data1\":0.876099},{\"data0\":76,\"data1\":0.883922},{\"data0\":77,\"data1\":0.902174},{\"data0\":78,\"data1\":0.883922},{\"data0\":79,\"data1\":0.870885},{\"data0\":80,\"data1\":0.850025},{\"data0\":81,\"data1\":0.839595},{\"data0\":82,\"data1\":0.831773},{\"data0\":83,\"data1\":0.813521},{\"data0\":84,\"data1\":0.784839},{\"data0\":85,\"data1\":0.774409},{\"data0\":86,\"data1\":0.737905},{\"data0\":87,\"data1\":0.722261},{\"data0\":88,\"data1\":0.677934},{\"data0\":89,\"data1\":0.654467},{\"data0\":90,\"data1\":0.617963},{\"data0\":91,\"data1\":0.589281},{\"data0\":92,\"data1\":0.55017},{\"data0\":93,\"data1\":0.505843},{\"data0\":94,\"data1\":0.464124},{\"data0\":95,\"data1\":0.425013},{\"data0\":96,\"data1\":0.378079},{\"data0\":97,\"data1\":0.33636},{\"data0\":98,\"data1\":0.299855},{\"data0\":99,\"data1\":0.245099}]},\"extension\":[]}\n",
       "        var id_name = '#vis-e2e6e31d-ff02-4684-83c2-762b1b3dc563';\n",
       "        Nyaplot.core.parse(model, id_name);\n",
       "\n",
       "        require(['downloadable'], function(downloadable){\n",
       "          var svg = d3.select(id_name).select(\"svg\");\n",
       "\t  if(!svg.empty())\n",
       "\t    svg.call(downloadable().filename('fig'));\n",
       "\t});\n",
       "    };\n",
       "    if(window['Nyaplot']==undefined){\n",
       "        window.addEventListener('load_nyaplot', render, false);\n",
       "\treturn;\n",
       "    } else {\n",
       "       render();\n",
       "    }\n",
       "})();\n",
       "</script>\n"
      ],
      "text/plain": [
       "#<Nyaplot::Frame:0x92bc80 @properties={:panes=>[#<Nyaplot::Plot:0x953a30 @properties={:diagrams=>[#<Nyaplot::Diagram:0x9346f8 @properties={:type=>:line, :options=>{:x=>\"data0\", :y=>\"data1\"}, :data=>\"19f3eba2-3239-44f2-94cc-8f90800d94ef\"}, @xrange=[0, 99], @yrange=[-1.07426, 0.902174]>], :options=>{:zoom=>true, :width=>700, :xrange=>[0, 99], :yrange=>[-1.07426, 0.902174]}}>], :data=>{\"19f3eba2-3239-44f2-94cc-8f90800d94ef\"=>#<Nyaplot::DataFrame:0x9512e8 @name=\"19f3eba2-3239-44f2-94cc-8f90800d94ef\", @rows=[{:data0=>0, :data1=>0.0}, {:data0=>1, :data1=>-0.889137}, {:data0=>2, :data1=>-0.915211}, {:data0=>3, :data1=>-0.962145}, {:data0=>4, :data1=>-0.993434}, {:data0=>5, :data1=>-0.988219}, {:data0=>6, :data1=>-0.996042}, {:data0=>7, :data1=>-1.02472}, {:data0=>8, :data1=>-1.04298}, {:data0=>9, :data1=>-1.04819}, {:data0=>10, :data1=>-1.02212}, {:data0=>11, :data1=>-1.03776}, {:data0=>12, :data1=>-1.05341}, {:data0=>13, :data1=>-1.06384}, {:data0=>14, :data1=>-1.05341}, {:data0=>15, :data1=>-1.07426}, {:data0=>16, :data1=>-1.04037}, {:data0=>17, :data1=>-1.0508}, {:data0=>18, :data1=>-1.03515}, {:data0=>19, :data1=>-1.02733}, {:data0=>20, :data1=>-1.00908}, {:data0=>21, :data1=>-0.97779}, {:data0=>22, :data1=>-0.964752}, {:data0=>23, :data1=>-0.941285}, {:data0=>24, :data1=>-0.920426}, {:data0=>25, :data1=>-0.902174}, {:data0=>26, :data1=>-0.870885}, {:data0=>27, :data1=>-0.836988}, {:data0=>28, :data1=>-0.805699}, {:data0=>29, :data1=>-0.737905}, {:data0=>30, :data1=>-0.724868}, {:data0=>31, :data1=>-0.680542}, {:data0=>32, :data1=>-0.623178}, {:data0=>33, :data1=>-0.586674}, {:data0=>34, :data1=>-0.55017}, {:data0=>35, :data1=>-0.505843}, {:data0=>36, :data1=>-0.43805}, {:data0=>37, :data1=>-0.40676}, {:data0=>38, :data1=>-0.349397}, {:data0=>39, :data1=>-0.3155}, {:data0=>40, :data1=>-0.278996}, {:data0=>41, :data1=>-0.211203}, {:data0=>42, :data1=>-0.159054}, {:data0=>43, :data1=>-0.130372}, {:data0=>44, :data1=>-0.0547562}, {:data0=>45, :data1=>-0.0156446}, {:data0=>46, :data1=>0.0391116}, {:data0=>47, :data1=>0.083438}, {:data0=>48, :data1=>0.12255}, {:data0=>49, :data1=>0.174698}, {:data0=>50, :data1=>0.21381}, {:data0=>51, :data1=>0.263351}, {:data0=>52, :data1=>0.323322}, {:data0=>53, :data1=>0.352004}, {:data0=>54, :data1=>0.396331}, {:data0=>55, :data1=>0.419798}, {:data0=>56, :data1=>0.471946}, {:data0=>57, :data1=>0.521488}, {:data0=>58, :data1=>0.560599}, {:data0=>59, :data1=>0.591889}, {:data0=>60, :data1=>0.610141}, {:data0=>61, :data1=>0.66229}, {:data0=>62, :data1=>0.670112}, {:data0=>63, :data1=>0.719653}, {:data0=>64, :data1=>0.735298}, {:data0=>65, :data1=>0.761372}, {:data0=>66, :data1=>0.779624}, {:data0=>67, :data1=>0.790054}, {:data0=>68, :data1=>0.829166}, {:data0=>69, :data1=>0.836988}, {:data0=>70, :data1=>0.85524}, {:data0=>71, :data1=>0.863062}, {:data0=>72, :data1=>0.876099}, {:data0=>73, :data1=>0.896959}, {:data0=>74, :data1=>0.883922}, {:data0=>75, :data1=>0.876099}, {:data0=>76, :data1=>0.883922}, {:data0=>77, :data1=>0.902174}, {:data0=>78, :data1=>0.883922}, {:data0=>79, :data1=>0.870885}, {:data0=>80, :data1=>0.850025}, {:data0=>81, :data1=>0.839595}, {:data0=>82, :data1=>0.831773}, {:data0=>83, :data1=>0.813521}, {:data0=>84, :data1=>0.784839}, {:data0=>85, :data1=>0.774409}, {:data0=>86, :data1=>0.737905}, {:data0=>87, :data1=>0.722261}, {:data0=>88, :data1=>0.677934}, {:data0=>89, :data1=>0.654467}, {:data0=>90, :data1=>0.617963}, {:data0=>91, :data1=>0.589281}, {:data0=>92, :data1=>0.55017}, {:data0=>93, :data1=>0.505843}, {:data0=>94, :data1=>0.464124}, {:data0=>95, :data1=>0.425013}, {:data0=>96, :data1=>0.378079}, {:data0=>97, :data1=>0.33636}, {:data0=>98, :data1=>0.299855}, {:data0=>99, :data1=>0.245099}]>}, :extension=>[]}>"
      ]
     },
     "metadata": {},
     "output_type": "display_data"
    }
   ],
   "source": [
    "require 'socket'\n",
    "require './rp_socket'\n",
    "tcpipObj = RP.new '192.168.0.5'; puts '# Open connection with your Red Pitaya'\n",
    "tcpipObj.send 'ACQ:DEC 256'\n",
    "tcpipObj.send 'ACQ:SOUR1:GAIN HV'\n",
    "tcpipObj.send 'ACQ:TRIG:LEV 0'\n",
    "tcpipObj.send 'ACQ:TRIG:DLY 0'\n",
    "tcpipObj.send 'ACQ:START'\n",
    "tcpipObj.send 'ACQ:TRIG NOW'\n",
    "sleep 1\n",
    "# signal_str = tcpipObj.query 'ACQ:SOUR1:DATA?'\n",
    "ndata = 100                                                                                              \n",
    "signal_str = tcpipObj.query \"ACQ:SOUR1:DATA:OLD:N? #{ndata}\"                                             \n",
    "puts \"signal_str.length = #{signal_str.length}\"\n",
    "puts \"signal_str.min = #{signal_str[1..-2].split(',').map{|a|a.to_f}.min}\"\n",
    "puts \"signal_str.max = #{signal_str[1..-2].split(',').map{|a|a.to_f}.max}\"\n",
    "data=signal_str[1..-2].split(',').map{|a|a.to_f}\n",
    "f=File.open('data.txt','w')\n",
    "data.each_with_index{|y,x|  f.puts \"#{x},#{y}\"}\n",
    "f.close\n",
    "tcpipObj.close; puts '# Close connection with Red Pitaya'\n",
    "x=[]\n",
    "0.upto(data.size-1){|a| x.push a}\n",
    "# plot data\n",
    "require 'nyaplot'\n",
    "plot = Nyaplot::Plot.new\n",
    "line = plot.add(:line, x, data)\n",
    "plot.show"
   ]
  },
  {
   "cell_type": "code",
   "execution_count": null,
   "metadata": {
    "collapsed": true
   },
   "outputs": [],
   "source": []
  }
 ],
 "metadata": {
  "kernelspec": {
   "display_name": "Ruby 2.1.5",
   "language": "ruby",
   "name": "ruby"
  },
  "language_info": {
   "file_extension": ".rb",
   "mimetype": "application/x-ruby",
   "name": "ruby",
   "version": "2.1.5"
  }
 },
 "nbformat": 4,
 "nbformat_minor": 0
}
