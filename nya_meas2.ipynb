{
 "cells": [
  {
   "cell_type": "code",
   "execution_count": 3,
   "metadata": {
    "collapsed": false,
    "scrolled": false
   },
   "outputs": [
    {
     "data": {
      "text/html": [
       "<div id='vis-b4b85e3d-6630-4381-af7a-41859af51d22'></div>\n",
       "<script>\n",
       "(function(){\n",
       "    var render = function(){\n",
       "        var model = {\"panes\":[{\"diagrams\":[{\"type\":\"line\",\"options\":{\"x\":\"data0\",\"y\":\"data1\"},\"data\":\"b71a002c-a9f9-4985-9fbd-c52f79a99d8d\"}],\"options\":{\"zoom\":true,\"width\":700,\"xrange\":[0,99],\"yrange\":[-1.05341,0.894352]}}],\"data\":{\"b71a002c-a9f9-4985-9fbd-c52f79a99d8d\":[{\"data0\":0,\"data1\":0.0},{\"data0\":1,\"data1\":-0.949108},{\"data0\":2,\"data1\":-0.951715},{\"data0\":3,\"data1\":-0.993434},{\"data0\":4,\"data1\":-1.00908},{\"data0\":5,\"data1\":-1.02994},{\"data0\":6,\"data1\":-1.02472},{\"data0\":7,\"data1\":-1.04819},{\"data0\":8,\"data1\":-1.02994},{\"data0\":9,\"data1\":-1.03255},{\"data0\":10,\"data1\":-1.03776},{\"data0\":11,\"data1\":-1.03776},{\"data0\":12,\"data1\":-1.04298},{\"data0\":13,\"data1\":-1.05341},{\"data0\":14,\"data1\":-1.04819},{\"data0\":15,\"data1\":-1.04819},{\"data0\":16,\"data1\":-1.03776},{\"data0\":17,\"data1\":-1.01951},{\"data0\":18,\"data1\":-1.00386},{\"data0\":19,\"data1\":-1.00386},{\"data0\":20,\"data1\":-0.96736},{\"data0\":21,\"data1\":-0.95693},{\"data0\":22,\"data1\":-0.925641},{\"data0\":23,\"data1\":-0.912604},{\"data0\":24,\"data1\":-0.878707},{\"data0\":25,\"data1\":-0.873492},{\"data0\":26,\"data1\":-0.816128},{\"data0\":27,\"data1\":-0.787447},{\"data0\":28,\"data1\":-0.74312},{\"data0\":29,\"data1\":-0.698794},{\"data0\":30,\"data1\":-0.659682},{\"data0\":31,\"data1\":-0.594496},{\"data0\":32,\"data1\":-0.555385},{\"data0\":33,\"data1\":-0.534525},{\"data0\":34,\"data1\":-0.487591},{\"data0\":35,\"data1\":-0.435442},{\"data0\":36,\"data1\":-0.393723},{\"data0\":37,\"data1\":-0.32593},{\"data0\":38,\"data1\":-0.286818},{\"data0\":39,\"data1\":-0.239884},{\"data0\":40,\"data1\":-0.179913},{\"data0\":41,\"data1\":-0.138194},{\"data0\":42,\"data1\":-0.0912604},{\"data0\":43,\"data1\":-0.041719},{\"data0\":44,\"data1\":0.0156446},{\"data0\":45,\"data1\":0.0547562},{\"data0\":46,\"data1\":0.0938678},{\"data0\":47,\"data1\":0.140802},{\"data0\":48,\"data1\":0.187736},{\"data0\":49,\"data1\":0.250314},{\"data0\":50,\"data1\":0.278996},{\"data0\":51,\"data1\":0.341574},{\"data0\":52,\"data1\":0.380686},{\"data0\":53,\"data1\":0.422405},{\"data0\":54,\"data1\":0.443265},{\"data0\":55,\"data1\":0.482376},{\"data0\":56,\"data1\":0.537132},{\"data0\":57,\"data1\":0.584066},{\"data0\":58,\"data1\":0.623178},{\"data0\":59,\"data1\":0.649252},{\"data0\":60,\"data1\":0.670112},{\"data0\":61,\"data1\":0.677934},{\"data0\":62,\"data1\":0.737905},{\"data0\":63,\"data1\":0.76398},{\"data0\":64,\"data1\":0.774409},{\"data0\":65,\"data1\":0.792661},{\"data0\":66,\"data1\":0.831773},{\"data0\":67,\"data1\":0.84481},{\"data0\":68,\"data1\":0.847418},{\"data0\":69,\"data1\":0.870885},{\"data0\":70,\"data1\":0.878707},{\"data0\":71,\"data1\":0.881314},{\"data0\":72,\"data1\":0.886529},{\"data0\":73,\"data1\":0.894352},{\"data0\":74,\"data1\":0.894352},{\"data0\":75,\"data1\":0.889137},{\"data0\":76,\"data1\":0.881314},{\"data0\":77,\"data1\":0.860455},{\"data0\":78,\"data1\":0.870885},{\"data0\":79,\"data1\":0.85524},{\"data0\":80,\"data1\":0.831773},{\"data0\":81,\"data1\":0.810914},{\"data0\":82,\"data1\":0.774409},{\"data0\":83,\"data1\":0.766587},{\"data0\":84,\"data1\":0.75355},{\"data0\":85,\"data1\":0.724868},{\"data0\":86,\"data1\":0.685756},{\"data0\":87,\"data1\":0.680542},{\"data0\":88,\"data1\":0.644037},{\"data0\":89,\"data1\":0.602318},{\"data0\":90,\"data1\":0.565814},{\"data0\":91,\"data1\":0.511058},{\"data0\":92,\"data1\":0.492806},{\"data0\":93,\"data1\":0.435442},{\"data0\":94,\"data1\":0.391116},{\"data0\":95,\"data1\":0.362434},{\"data0\":96,\"data1\":0.323322},{\"data0\":97,\"data1\":0.250314},{\"data0\":98,\"data1\":0.221632},{\"data0\":99,\"data1\":0.182521}]},\"extension\":[]}\n",
       "        var id_name = '#vis-b4b85e3d-6630-4381-af7a-41859af51d22';\n",
       "        Nyaplot.core.parse(model, id_name);\n",
       "\n",
       "        require(['downloadable'], function(downloadable){\n",
       "          var svg = d3.select(id_name).select(\"svg\");\n",
       "\t  if(!svg.empty())\n",
       "\t    svg.call(downloadable().filename('fig'));\n",
       "\t});\n",
       "    };\n",
       "    if(window['Nyaplot']==undefined){\n",
       "        window.addEventListener('load_nyaplot', render, false);\n",
       "\treturn;\n",
       "    } else {\n",
       "       render();\n",
       "    }\n",
       "})();\n",
       "</script>\n"
      ],
      "text/plain": [
       "#<Nyaplot::Frame:0x915a50 @properties={:panes=>[#<Nyaplot::Plot:0x934ab8 @properties={:diagrams=>[#<Nyaplot::Diagram:0x915f18 @properties={:type=>:line, :options=>{:x=>\"data0\", :y=>\"data1\"}, :data=>\"b71a002c-a9f9-4985-9fbd-c52f79a99d8d\"}, @xrange=[0, 99], @yrange=[-1.05341, 0.894352]>], :options=>{:zoom=>true, :width=>700, :xrange=>[0, 99], :yrange=>[-1.05341, 0.894352]}}>], :data=>{\"b71a002c-a9f9-4985-9fbd-c52f79a99d8d\"=>#<Nyaplot::DataFrame:0x934428 @name=\"b71a002c-a9f9-4985-9fbd-c52f79a99d8d\", @rows=[{:data0=>0, :data1=>0.0}, {:data0=>1, :data1=>-0.949108}, {:data0=>2, :data1=>-0.951715}, {:data0=>3, :data1=>-0.993434}, {:data0=>4, :data1=>-1.00908}, {:data0=>5, :data1=>-1.02994}, {:data0=>6, :data1=>-1.02472}, {:data0=>7, :data1=>-1.04819}, {:data0=>8, :data1=>-1.02994}, {:data0=>9, :data1=>-1.03255}, {:data0=>10, :data1=>-1.03776}, {:data0=>11, :data1=>-1.03776}, {:data0=>12, :data1=>-1.04298}, {:data0=>13, :data1=>-1.05341}, {:data0=>14, :data1=>-1.04819}, {:data0=>15, :data1=>-1.04819}, {:data0=>16, :data1=>-1.03776}, {:data0=>17, :data1=>-1.01951}, {:data0=>18, :data1=>-1.00386}, {:data0=>19, :data1=>-1.00386}, {:data0=>20, :data1=>-0.96736}, {:data0=>21, :data1=>-0.95693}, {:data0=>22, :data1=>-0.925641}, {:data0=>23, :data1=>-0.912604}, {:data0=>24, :data1=>-0.878707}, {:data0=>25, :data1=>-0.873492}, {:data0=>26, :data1=>-0.816128}, {:data0=>27, :data1=>-0.787447}, {:data0=>28, :data1=>-0.74312}, {:data0=>29, :data1=>-0.698794}, {:data0=>30, :data1=>-0.659682}, {:data0=>31, :data1=>-0.594496}, {:data0=>32, :data1=>-0.555385}, {:data0=>33, :data1=>-0.534525}, {:data0=>34, :data1=>-0.487591}, {:data0=>35, :data1=>-0.435442}, {:data0=>36, :data1=>-0.393723}, {:data0=>37, :data1=>-0.32593}, {:data0=>38, :data1=>-0.286818}, {:data0=>39, :data1=>-0.239884}, {:data0=>40, :data1=>-0.179913}, {:data0=>41, :data1=>-0.138194}, {:data0=>42, :data1=>-0.0912604}, {:data0=>43, :data1=>-0.041719}, {:data0=>44, :data1=>0.0156446}, {:data0=>45, :data1=>0.0547562}, {:data0=>46, :data1=>0.0938678}, {:data0=>47, :data1=>0.140802}, {:data0=>48, :data1=>0.187736}, {:data0=>49, :data1=>0.250314}, {:data0=>50, :data1=>0.278996}, {:data0=>51, :data1=>0.341574}, {:data0=>52, :data1=>0.380686}, {:data0=>53, :data1=>0.422405}, {:data0=>54, :data1=>0.443265}, {:data0=>55, :data1=>0.482376}, {:data0=>56, :data1=>0.537132}, {:data0=>57, :data1=>0.584066}, {:data0=>58, :data1=>0.623178}, {:data0=>59, :data1=>0.649252}, {:data0=>60, :data1=>0.670112}, {:data0=>61, :data1=>0.677934}, {:data0=>62, :data1=>0.737905}, {:data0=>63, :data1=>0.76398}, {:data0=>64, :data1=>0.774409}, {:data0=>65, :data1=>0.792661}, {:data0=>66, :data1=>0.831773}, {:data0=>67, :data1=>0.84481}, {:data0=>68, :data1=>0.847418}, {:data0=>69, :data1=>0.870885}, {:data0=>70, :data1=>0.878707}, {:data0=>71, :data1=>0.881314}, {:data0=>72, :data1=>0.886529}, {:data0=>73, :data1=>0.894352}, {:data0=>74, :data1=>0.894352}, {:data0=>75, :data1=>0.889137}, {:data0=>76, :data1=>0.881314}, {:data0=>77, :data1=>0.860455}, {:data0=>78, :data1=>0.870885}, {:data0=>79, :data1=>0.85524}, {:data0=>80, :data1=>0.831773}, {:data0=>81, :data1=>0.810914}, {:data0=>82, :data1=>0.774409}, {:data0=>83, :data1=>0.766587}, {:data0=>84, :data1=>0.75355}, {:data0=>85, :data1=>0.724868}, {:data0=>86, :data1=>0.685756}, {:data0=>87, :data1=>0.680542}, {:data0=>88, :data1=>0.644037}, {:data0=>89, :data1=>0.602318}, {:data0=>90, :data1=>0.565814}, {:data0=>91, :data1=>0.511058}, {:data0=>92, :data1=>0.492806}, {:data0=>93, :data1=>0.435442}, {:data0=>94, :data1=>0.391116}, {:data0=>95, :data1=>0.362434}, {:data0=>96, :data1=>0.323322}, {:data0=>97, :data1=>0.250314}, {:data0=>98, :data1=>0.221632}, {:data0=>99, :data1=>0.182521}]>}, :extension=>[]}>"
      ]
     },
     "metadata": {},
     "output_type": "display_data"
    }
   ],
   "source": [
    "require 'socket'\n",
    "require './rp_socket'\n",
    "tcpipObj = RP.new '192.168.0.5'; #puts '# Open connection with your Red Pitaya'\n",
    "tcpipObj.send 'ACQ:DEC 16'\n",
    "tcpipObj.send 'ACQ:SOUR1:GAIN HV'\n",
    "tcpipObj.send 'ACQ:TRIG:LEV 0'\n",
    "tcpipObj.send 'ACQ:TRIG:DLY 0'\n",
    "tcpipObj.send 'ACQ:START'\n",
    "tcpipObj.send 'ACQ:TRIG NOW'\n",
    "sleep 1\n",
    "# signal_str = tcpipObj.query 'ACQ:SOUR1:DATA?'\n",
    "ndata = 100                                                                                              \n",
    "signal_str = tcpipObj.query \"ACQ:SOUR1:DATA:OLD:N? #{ndata}\"                                             \n",
    "#puts \"signal_str.length = #{signal_str.length}\"\n",
    "#puts \"signal_str.min = #{signal_str[1..-2].split(',').map{|a|a.to_f}.min}\"\n",
    "#puts \"signal_str.max = #{signal_str[1..-2].split(',').map{|a|a.to_f}.max}\"\n",
    "data=signal_str[1..-2].split(',').map{|a|a.to_f}\n",
    "f=File.open('data.txt','w')\n",
    "data.each_with_index{|y,x|  f.puts \"#{x},#{y}\"}\n",
    "f.close\n",
    "tcpipObj.close; #puts '# Close connection with Red Pitaya'\n",
    "x=[]\n",
    "0.upto(data.size-1){|a| x.push a}\n",
    "# plot data\n",
    "require 'nyaplot'\n",
    "plot = Nyaplot::Plot.new\n",
    "line = plot.add(:line, x, data)\n",
    "plot.show"
   ]
  }
 ],
 "metadata": {
  "kernelspec": {
   "display_name": "Ruby 2.1.5",
   "language": "ruby",
   "name": "ruby"
  },
  "language_info": {
   "file_extension": ".rb",
   "mimetype": "application/x-ruby",
   "name": "ruby",
   "version": "2.1.5"
  }
 },
 "nbformat": 4,
 "nbformat_minor": 0
}
